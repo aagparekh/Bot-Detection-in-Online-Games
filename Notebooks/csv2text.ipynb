{
 "cells": [
  {
   "cell_type": "code",
   "execution_count": 10,
   "metadata": {},
   "outputs": [],
   "source": [
    "import pandas as pd\n",
    "import numpy as np"
   ]
  },
  {
   "cell_type": "code",
   "execution_count": 11,
   "metadata": {},
   "outputs": [],
   "source": [
    "player_information = pd.read_csv('../data/csv_data/(after) Player information features.csv')\n",
    "player_actions = pd.read_csv('../data/csv_data/(after) Player actions features.csv')\n",
    "social_interaction = pd.read_csv('../data/csv_data/(after) Social interaction diversity features.csv')\n",
    "network_measure = pd.read_csv('../data/csv_data/(after) Network measures features.csv')\n",
    "group_activities = pd.read_csv('../data/csv_data/(after) Group activities features.csv')"
   ]
  },
  {
   "cell_type": "code",
   "execution_count": 12,
   "metadata": {},
   "outputs": [],
   "source": [
    "# merged_data = player_information.merge(player_actions, on=['Actor', 'A_Acc'], how='outer', suffixes=('', '_actions'))\\\n",
    "#     .merge(social_interaction, on=['Actor', 'A_Acc'], how='outer', suffixes=('', '_social'))\\\n",
    "#     .merge(group_activities, on=['Actor', 'A_Acc'], how='outer', suffixes=('', '_group'))\\\n",
    "#     .merge(network_measure, on=['Actor', 'A_Acc'], how='outer', suffixes=('', '_network'))\n",
    "# merged_data"
   ]
  },
  {
   "cell_type": "code",
   "execution_count": 13,
   "metadata": {},
   "outputs": [
    {
     "data": {
      "text/plain": [
       "14         1459\n",
       "31         2238\n",
       "52         3001\n",
       "59         3265\n",
       "69         3826\n",
       "          ...  \n",
       "49644    472405\n",
       "49649    472426\n",
       "49676    472523\n",
       "49715    472748\n",
       "49722    472777\n",
       "Name: Actor, Length: 6250, dtype: int64"
      ]
     },
     "execution_count": 13,
     "metadata": {},
     "output_type": "execute_result"
    }
   ],
   "source": [
    "# merged_data.columns[merged_data.columns.duplicated()].tolist()\n",
    "social_interaction[social_interaction['Type'] == 'Bot']['Actor']"
   ]
  },
  {
   "cell_type": "code",
   "execution_count": 20,
   "metadata": {},
   "outputs": [],
   "source": [
    "actor_id = 6297\n",
    "\n",
    "    # Extract player information\n",
    "player_info = player_information[player_information['Actor'] == actor_id].iloc[0]\n",
    "player_action = player_actions[player_actions['Actor'] == actor_id].iloc[0]\n",
    "social = social_interaction[social_interaction['Actor'] == actor_id].iloc[0]\n",
    "group_actions = group_activities[group_activities['Actor'] == actor_id].iloc[0]\n",
    "network = network_measure[network_measure['Actor'] == actor_id].iloc[0]\n",
    "\n",
    "summary = f\"\"\"\n",
    "Player Summary for Actor ID {actor_id}:\n",
    "\n",
    "- **Login Statistics**: Logged in for {player_info['Login_day_count']} days, logged out for {player_info['Logout_day_count']} days.\n",
    "- **Playtime**: Total playtime is {player_info['Playtime']} seconds, averaging {player_info['playtime_per_day']} seconds per day.\n",
    "- **Currency**: Average money collected is {player_info['avg_money']}, with a maximum level reached of {player_info['Max_level']}.\n",
    "\n",
    "- **Player Actions**:\n",
    "- Collected items a maximum of {player_action['collect_max_count']} times.\n",
    "- Sit ratio: {player_action['Sit_ratio']}.\n",
    "- Experience gain ratio: {player_action['Exp_get_ratio']} with an experience count of {player_action['Exp_get_count']}.\n",
    "- Money gain ratio: {player_action['Money_get_ratio']} with a total money count of {player_action['Money_get_count']}.\n",
    "\n",
    "- **Social Interaction**: \n",
    "- Social diversity score: {social['Social_diversity']}.\n",
    "\n",
    "- **Group Actions**:\n",
    "- Average party time: {group_actions['Avg_PartyTime']} seconds.\n",
    "- Guild activities count: {group_actions['GuildAct_count']}, Guild joins: {group_actions['GuildJoin_count']}.\n",
    "\n",
    "- **Network Measures**:\n",
    "- In-degree: {network['p_in_deg']}, Out-degree: {network['p_out_deg']}.\n",
    "\n",
    "\"\"\"\n",
    "    \n",
    "\n",
    "# Generate summaries for all players"
   ]
  },
  {
   "cell_type": "code",
   "execution_count": 21,
   "metadata": {},
   "outputs": [
    {
     "name": "stdout",
     "output_type": "stream",
     "text": [
      "\n",
      "Player Summary for Actor ID 6297:\n",
      "\n",
      "- **Login Statistics**: Logged in for 47 days, logged out for 46 days.\n",
      "- **Playtime**: Total playtime is 999128 seconds, averaging 21720.1739 seconds per day.\n",
      "- **Currency**: Average money collected is 6539.1228, with a maximum level reached of 55.\n",
      "\n",
      "- **Player Actions**:\n",
      "- Collected items a maximum of 1 times.\n",
      "- Sit ratio: 0.4317.\n",
      "- Experience gain ratio: 19.4115 with an experience count of 26169.\n",
      "- Money gain ratio: 11.2787 with a total money count of 15205.\n",
      "\n",
      "- **Social Interaction**: \n",
      "- Social diversity score: 1.2598.\n",
      "\n",
      "- **Group Actions**:\n",
      "- Average party time: 7889.8788 seconds.\n",
      "- Guild activities count: 0, Guild joins: 0.\n",
      "\n",
      "- **Network Measures**:\n",
      "- In-degree: 122, Out-degree: 39.\n",
      "\n",
      "\n"
     ]
    }
   ],
   "source": [
    "print(summary)"
   ]
  },
  {
   "cell_type": "code",
   "execution_count": 25,
   "metadata": {},
   "outputs": [
    {
     "data": {
      "text/plain": [
       "int"
      ]
     },
     "execution_count": 25,
     "metadata": {},
     "output_type": "execute_result"
    }
   ],
   "source": [
    "type(player_information['Actor'].tolist())"
   ]
  },
  {
   "cell_type": "code",
   "execution_count": null,
   "metadata": {},
   "outputs": [],
   "source": []
  }
 ],
 "metadata": {
  "kernelspec": {
   "display_name": "game_bot_detection",
   "language": "python",
   "name": "python3"
  },
  "language_info": {
   "codemirror_mode": {
    "name": "ipython",
    "version": 3
   },
   "file_extension": ".py",
   "mimetype": "text/x-python",
   "name": "python",
   "nbconvert_exporter": "python",
   "pygments_lexer": "ipython3",
   "version": "3.13.1"
  }
 },
 "nbformat": 4,
 "nbformat_minor": 2
}
