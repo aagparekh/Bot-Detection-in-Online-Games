{
 "cells": [
  {
   "cell_type": "code",
   "execution_count": 7,
   "metadata": {},
   "outputs": [],
   "source": [
    "from langchain_neo4j import Neo4jGraph\n",
    "from langchain_core.prompts import ChatPromptTemplate"
   ]
  },
  {
   "cell_type": "code",
   "execution_count": 8,
   "metadata": {},
   "outputs": [],
   "source": [
    "from langchain_groq import ChatGroq\n",
    "\n",
    "llm = ChatGroq(model=\"llama-3.3-70b-versatile\", api_key='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')"
   ]
  },
  {
   "cell_type": "code",
   "execution_count": 9,
   "metadata": {},
   "outputs": [],
   "source": [
    "graph = Neo4jGraph(\n",
    "    url=\"neo4j+s://00601af8.databases.neo4j.io\", username=\"neo4j\", password=\"oIBWHe2qEKESesEC1pBzwXL041YajSkKN5BIacTIIE0\"\n",
    ")"
   ]
  },
  {
   "cell_type": "code",
   "execution_count": 10,
   "metadata": {},
   "outputs": [
    {
     "data": {
      "text/plain": [
       "<langchain_neo4j.graphs.neo4j_graph.Neo4jGraph at 0x285992367a0>"
      ]
     },
     "execution_count": 10,
     "metadata": {},
     "output_type": "execute_result"
    }
   ],
   "source": [
    "graph"
   ]
  },
  {
   "cell_type": "code",
   "execution_count": 11,
   "metadata": {},
   "outputs": [],
   "source": [
    "def extract_player_social_diversity_features(player_id: str) -> dict:\n",
    "    \"\"\"\n",
    "    Extracts features from the knowledge graph for a given player.\n",
    "    \"\"\"\n",
    "    query = f\"\"\"\n",
    "    MATCH (p:Player {{Actor: toInteger('{player_id}')}})\n",
    "    RETURN\n",
    "        p.Actor AS player_id,\n",
    "        p.A_Acc AS a_acc,\n",
    "        p.Social_diversity AS social_diversity\n",
    "    \"\"\"\n",
    "    results = graph.query(query)\n",
    "    if results:\n",
    "        return results[0]\n",
    "    else:\n",
    "        return {}"
   ]
  },
  {
   "cell_type": "code",
   "execution_count": 22,
   "metadata": {},
   "outputs": [],
   "source": [
    "prompt = ChatPromptTemplate.from_template(\n",
    "\"\"\"\n",
    "<|system|>\n",
    "You are an expert game analyst tasked with identifying bots in an online game by analyzing player statistics. Your role is to generate an anomaly score (0-100, higher score means more likely to be a bot) and provide concise reasoning based on the player data.\n",
    "\n",
    "Here is how to interpret each player statistic. Provide context for how each statistic informs your score. Focus on how these characteristics point to a bot.\n",
    "\n",
    "- **Actor**: The player's unique identifier.\n",
    "- **A_Acc**: Account ID of the player; may provide clues about account creation patterns.\n",
    "- **Social_Diversity**: Represents the extent of a player's interactions within the game, including guild participation, friendships, trades, chats, and group activities, ranges between 0 - 2. A higher value indicates a more varied and diverse social presence.\n",
    "\n",
    "Consider:\n",
    "\n",
    "1. A very low Social Diversity Score increases the likelihood of bot-like behavior, as it suggests minimal engagement with different players and activities.\n",
    "2. Players with consistently limited interactions or repetitive engagement patterns are more likely to be automated rather than naturally social participants.\n",
    "3. Higher Social Diversity Scores generally indicate a more dynamic and organic playstyle, as players engage with different groups, trade partners, and social features over time.\n",
    "4. While some legitimate players may have low social diversity due to playstyle preferences, inactivity, or being new to the game, consistently low diversity over extended periods is more commonly seen in bots.\n",
    "\n",
    "\n",
    "Based on those descriptions, you will be given the following information and need to determine these two things\n",
    "\n",
    "1.  Determine the **anomaly score** (0-100): A higher score indicates a greater likelihood of the player being a bot. This MUST be provided\n",
    "\n",
    "2.  Provide a **detailed explanation** of your reasoning. This MUST be provided\n",
    "\n",
    "Your final output **MUST** follow this structure:\n",
    "\n",
    "Anomaly Score: [your anomaly score 0-100]\n",
    "Reasoning: [Your reasoning based on patterns from the statistics. Be as clear as possible]\n",
    "\n",
    "Respond concisely and directly.\n",
    "\n",
    "<|user|>\n",
    "Here is the player data:\n",
    "\n",
    "Actor: {actor}\n",
    "A_Acc: {a_acc}\n",
    "Social_diversity: {social_diversity}\n",
    "\n",
    "Anomaly Score:\n",
    "Reasoning:\n",
    "\"\"\")"
   ]
  },
  {
   "cell_type": "code",
   "execution_count": 17,
   "metadata": {},
   "outputs": [],
   "source": [
    "def assess_bot_likelihood(player_data) -> tuple[int, str, str]:\n",
    "    \"\"\"\n",
    "    Assesses the likelihood of a player being a bot using LLM and extracts score and reasoning.\n",
    "    Returns a tuple of (anomaly_score, reasoning, full_analysis).\n",
    "    \"\"\"\n",
    "    # Format the prompt\n",
    "    formatted_prompt = prompt.format_messages(\n",
    "        actor=player_data['player_id'],\n",
    "        a_acc=player_data['a_acc'],\n",
    "        social_diversity=player_data['social_diversity']\n",
    "    )\n",
    "\n",
    "    # Call the LLM directly\n",
    "    response = llm.invoke(formatted_prompt)\n",
    "    full_analysis = response.content\n",
    "\n",
    "    # Extract Anomaly Score and Reasoning\n",
    "    try:\n",
    "        score_line = next(line for line in full_analysis.split('\\n') if \"Anomaly Score\" in line)\n",
    "        anomaly_score = int(score_line.split(\":\")[1].strip())\n",
    "\n",
    "        reasoning = \"\\n\".join(full_analysis.split('\\n')[1:])  # All lines after the score\n",
    "    except Exception as e:\n",
    "        anomaly_score = None\n",
    "        reasoning = f\"Could not reliably parse LLM response: {str(e)}\"\n",
    "\n",
    "    return anomaly_score, reasoning, full_analysis"
   ]
  },
  {
   "cell_type": "code",
   "execution_count": 18,
   "metadata": {},
   "outputs": [],
   "source": [
    "def generate_bot_report(player_ids: list[str]) -> list[dict]:\n",
    "    \"\"\"\n",
    "    Generates a report for a list of player IDs, including anomaly scores and reasoning.\n",
    "    \"\"\"\n",
    "    report = []\n",
    "    for player_id in player_ids:\n",
    "        player_data = extract_player_social_diversity_features(player_id)\n",
    "        if player_data:\n",
    "            anomaly_score, reasoning, full_analysis = assess_bot_likelihood(player_data)\n",
    "\n",
    "            report.append({\n",
    "                \"player_id\": player_id,\n",
    "                \"anomaly_score\": anomaly_score,\n",
    "                \"reasoning\": reasoning,\n",
    "                #\"full_analysis\": /full_analysis  # Optional - adds full LLM output\n",
    "            })\n",
    "        else:\n",
    "            report.append({\n",
    "                \"player_id\": player_id,\n",
    "                \"anomaly_score\": None,\n",
    "                \"reasoning\": \"No data found for this player.\",\n",
    "                \"full_analysis\": None\n",
    "            })\n",
    "    return report"
   ]
  },
  {
   "cell_type": "code",
   "execution_count": null,
   "metadata": {},
   "outputs": [
    {
     "name": "stdout",
     "output_type": "stream",
     "text": [
      "Player ID: 6187\n",
      "Anomaly Score: 90\n",
      "Reasoning: Reasoning: The player's Social Diversity Score of 0.0 indicates a complete lack of interaction with other players, guilds, or social features within the game. This extremely low score, combined with the potential for patterned account creation suggested by the A_Acc, strongly suggests bot-like behavior. Legitimate players typically exhibit some level of social engagement over time, whereas a score of 0.0 implies a static, potentially automated playstyle. The absence of any social diversity is a significant indicator of a bot, as naturally social players tend to engage in various activities and interactions, leading to higher diversity scores.\n",
      "----------------------------------------\n",
      "Player ID: 7505\n",
      "Anomaly Score: 20\n",
      "Reasoning: Reasoning: The player's Social Diversity Score of 0.788 is relatively high, indicating a varied and dynamic social presence within the game. This suggests engagement with different players, groups, and activities, which is more characteristic of a human player than a bot. While the account ID (A_Acc) could provide additional insights into account creation patterns, the social diversity score alone does not strongly indicate bot-like behavior, leading to a relatively low anomaly score.\n",
      "----------------------------------------\n",
      "Player ID: 315285\n",
      "Anomaly Score: 20\n",
      "Reasoning: Reasoning: The Social Diversity Score of 1.7181 is relatively high, indicating a varied and dynamic social presence within the game. This suggests engagement with different players, groups, and activities, which is more characteristic of a legitimate player than a bot. While it's possible for bots to mimic some level of social interaction, a score above 1.7 implies a level of complexity in social behavior that is less common in automated accounts. Therefore, based on the provided data, the likelihood of this player being a bot is relatively low.\n",
      "----------------------------------------\n",
      "Player ID: 316386\n",
      "Anomaly Score: 20\n",
      "Reasoning: Reasoning: The player's Social Diversity Score of 1.1332 is relatively moderate, indicating some level of engagement with different players and activities. This score suggests that the player is not completely isolated and has some variation in their social interactions, which is a characteristic more commonly associated with human players. While the score is not exceptionally high, it does not raise significant concerns about bot-like behavior. The provided A_Acc and Actor information does not offer direct insight into bot-like behavior without additional context. Overall, the moderate Social Diversity Score and lack of red flags in the provided data suggest that this player is likely not a bot, resulting in a relatively low anomaly score.\n",
      "----------------------------------------\n"
     ]
    }
   ],
   "source": [
    "player_ids_to_check = ['6187','7505','315285','316386']  # Replace with actual player IDs\n",
    "bot_report = generate_bot_report(player_ids_to_check)\n",
    "\n",
    "for record in bot_report:\n",
    "    print(f\"Player ID: {record['player_id']}\")\n",
    "    print(f\"Anomaly Score: {record['anomaly_score']}\")\n",
    "    # print(f\"Reasoning: {record['reasoning']}\")\n",
    "    # print(\"-\" * 40)"
   ]
  },
  {
   "cell_type": "code",
   "execution_count": null,
   "metadata": {},
   "outputs": [],
   "source": []
  }
 ],
 "metadata": {
  "kernelspec": {
   "display_name": "capstone_env",
   "language": "python",
   "name": "python3"
  },
  "language_info": {
   "codemirror_mode": {
    "name": "ipython",
    "version": 3
   },
   "file_extension": ".py",
   "mimetype": "text/x-python",
   "name": "python",
   "nbconvert_exporter": "python",
   "pygments_lexer": "ipython3",
   "version": "3.11.11"
  }
 },
 "nbformat": 4,
 "nbformat_minor": 2
}
