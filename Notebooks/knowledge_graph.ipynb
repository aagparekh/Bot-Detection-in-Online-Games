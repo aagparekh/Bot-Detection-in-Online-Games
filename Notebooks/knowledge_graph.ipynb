{
 "cells": [
  {
   "cell_type": "code",
   "execution_count": 1,
   "metadata": {},
   "outputs": [
    {
     "data": {
      "text/plain": [
       "True"
      ]
     },
     "execution_count": 1,
     "metadata": {},
     "output_type": "execute_result"
    }
   ],
   "source": [
    "import pandas as pd\n",
    "\n",
    "from neo4j import GraphDatabase\n",
    "\n",
    "import os\n",
    "from dotenv import load_dotenv\n",
    "\n",
    "from tqdm import tqdm\n",
    "\n",
    "load_dotenv()"
   ]
  },
  {
   "cell_type": "code",
   "execution_count": 2,
   "metadata": {},
   "outputs": [
    {
     "name": "stdout",
     "output_type": "stream",
     "text": [
      "neo4j+s://6ea87e27.databases.neo4j.io neo4j 6hKhbbaT_Yh53PXZYO5ivFsQXkq4NtOg43Ds3qoP4LE\n"
     ]
    }
   ],
   "source": [
    "uri = os.getenv(\"NEO4J_URI\")\n",
    "username = os.getenv(\"NEO4J_USERNAME\")\n",
    "password = os.getenv(\"NEO4J_PASSWORD\")\n",
    "\n",
    "print(uri, username, password)"
   ]
  },
  {
   "cell_type": "code",
   "execution_count": 3,
   "metadata": {},
   "outputs": [],
   "source": [
    "with GraphDatabase.driver(uri, auth=(username, password)) as driver:\n",
    "    driver.verify_connectivity()"
   ]
  },
  {
   "cell_type": "code",
   "execution_count": 4,
   "metadata": {},
   "outputs": [],
   "source": [
    "player_df = pd.read_csv('../data/csv_data/(after) Player information features.csv')\n",
    "action_df = pd.read_csv('../data/csv_data/(after) Player actions features.csv')\n",
    "social_df = pd.read_csv('../data/csv_data/(after) Social interaction diversity features.csv')\n",
    "network_df = pd.read_csv('../data/csv_data/(after) Network measures features.csv')\n",
    "group_df = pd.read_csv('../data/csv_data/(after) Group activities features.csv')"
   ]
  },
  {
   "cell_type": "code",
   "execution_count": 5,
   "metadata": {},
   "outputs": [],
   "source": [
    "player_df = player_df.drop('Type', axis=1)\n",
    "action_df = action_df.drop('Type', axis=1)\n",
    "social_df = social_df.drop('Type', axis=1)\n",
    "group_df = group_df.drop('Type', axis=1)\n",
    "network_df = network_df.drop('Type', axis=1)"
   ]
  },
  {
   "cell_type": "code",
   "execution_count": 6,
   "metadata": {},
   "outputs": [
    {
     "data": {
      "text/html": [
       "<div>\n",
       "<style scoped>\n",
       "    .dataframe tbody tr th:only-of-type {\n",
       "        vertical-align: middle;\n",
       "    }\n",
       "\n",
       "    .dataframe tbody tr th {\n",
       "        vertical-align: top;\n",
       "    }\n",
       "\n",
       "    .dataframe thead th {\n",
       "        text-align: right;\n",
       "    }\n",
       "</style>\n",
       "<table border=\"1\" class=\"dataframe\">\n",
       "  <thead>\n",
       "    <tr style=\"text-align: right;\">\n",
       "      <th></th>\n",
       "      <th>Actor</th>\n",
       "      <th>A_Acc</th>\n",
       "      <th>collect_max_count</th>\n",
       "      <th>Sit_ratio</th>\n",
       "      <th>Sit_count</th>\n",
       "      <th>sit_count_per_day</th>\n",
       "      <th>Exp_get_ratio</th>\n",
       "      <th>Exp_get_count</th>\n",
       "      <th>exp_get_count_per_day</th>\n",
       "      <th>Item_get_ratio</th>\n",
       "      <th>...</th>\n",
       "      <th>Use_portal_count</th>\n",
       "      <th>Use_portal_count_per_day</th>\n",
       "      <th>Killed_bypc_count</th>\n",
       "      <th>Killed_bypc_count_per_day</th>\n",
       "      <th>Killed_bynpc_count</th>\n",
       "      <th>Killed_bynpc_count_per_day</th>\n",
       "      <th>Teleport_count</th>\n",
       "      <th>Teleport_count_per_day</th>\n",
       "      <th>Reborn_count</th>\n",
       "      <th>Reborn_count_per_day</th>\n",
       "    </tr>\n",
       "  </thead>\n",
       "  <tbody>\n",
       "    <tr>\n",
       "      <th>0</th>\n",
       "      <td>1047</td>\n",
       "      <td>6482393</td>\n",
       "      <td>6</td>\n",
       "      <td>1.0430</td>\n",
       "      <td>1012</td>\n",
       "      <td>24.0952</td>\n",
       "      <td>15.5210</td>\n",
       "      <td>15060</td>\n",
       "      <td>358.5714</td>\n",
       "      <td>6.2847</td>\n",
       "      <td>...</td>\n",
       "      <td>2</td>\n",
       "      <td>0.0476</td>\n",
       "      <td>690</td>\n",
       "      <td>16.4286</td>\n",
       "      <td>172</td>\n",
       "      <td>4.0952</td>\n",
       "      <td>1051</td>\n",
       "      <td>25.0238</td>\n",
       "      <td>2</td>\n",
       "      <td>0.0476</td>\n",
       "    </tr>\n",
       "    <tr>\n",
       "      <th>1</th>\n",
       "      <td>1049</td>\n",
       "      <td>6275719</td>\n",
       "      <td>0</td>\n",
       "      <td>3.5570</td>\n",
       "      <td>141</td>\n",
       "      <td>8.8125</td>\n",
       "      <td>13.6226</td>\n",
       "      <td>540</td>\n",
       "      <td>33.7500</td>\n",
       "      <td>6.9122</td>\n",
       "      <td>...</td>\n",
       "      <td>2</td>\n",
       "      <td>0.1250</td>\n",
       "      <td>30</td>\n",
       "      <td>1.8750</td>\n",
       "      <td>16</td>\n",
       "      <td>1.0000</td>\n",
       "      <td>118</td>\n",
       "      <td>7.3750</td>\n",
       "      <td>0</td>\n",
       "      <td>0.0000</td>\n",
       "    </tr>\n",
       "    <tr>\n",
       "      <th>2</th>\n",
       "      <td>1120</td>\n",
       "      <td>6596993</td>\n",
       "      <td>3</td>\n",
       "      <td>4.9882</td>\n",
       "      <td>190</td>\n",
       "      <td>47.5000</td>\n",
       "      <td>15.6734</td>\n",
       "      <td>597</td>\n",
       "      <td>149.2500</td>\n",
       "      <td>13.5994</td>\n",
       "      <td>...</td>\n",
       "      <td>0</td>\n",
       "      <td>0.0000</td>\n",
       "      <td>0</td>\n",
       "      <td>0.0000</td>\n",
       "      <td>20</td>\n",
       "      <td>5.0000</td>\n",
       "      <td>37</td>\n",
       "      <td>9.2500</td>\n",
       "      <td>0</td>\n",
       "      <td>0.0000</td>\n",
       "    </tr>\n",
       "    <tr>\n",
       "      <th>3</th>\n",
       "      <td>1164</td>\n",
       "      <td>6670686</td>\n",
       "      <td>0</td>\n",
       "      <td>0.8581</td>\n",
       "      <td>30</td>\n",
       "      <td>3.3333</td>\n",
       "      <td>17.8776</td>\n",
       "      <td>625</td>\n",
       "      <td>69.4444</td>\n",
       "      <td>6.8650</td>\n",
       "      <td>...</td>\n",
       "      <td>0</td>\n",
       "      <td>0.0000</td>\n",
       "      <td>26</td>\n",
       "      <td>2.8889</td>\n",
       "      <td>6</td>\n",
       "      <td>0.6667</td>\n",
       "      <td>61</td>\n",
       "      <td>6.7778</td>\n",
       "      <td>0</td>\n",
       "      <td>0.0000</td>\n",
       "    </tr>\n",
       "    <tr>\n",
       "      <th>4</th>\n",
       "      <td>1184</td>\n",
       "      <td>4220231</td>\n",
       "      <td>4</td>\n",
       "      <td>4.2667</td>\n",
       "      <td>215</td>\n",
       "      <td>19.5455</td>\n",
       "      <td>18.0194</td>\n",
       "      <td>908</td>\n",
       "      <td>82.5455</td>\n",
       "      <td>8.0572</td>\n",
       "      <td>...</td>\n",
       "      <td>0</td>\n",
       "      <td>0.0000</td>\n",
       "      <td>6</td>\n",
       "      <td>0.5455</td>\n",
       "      <td>17</td>\n",
       "      <td>1.5455</td>\n",
       "      <td>54</td>\n",
       "      <td>4.9091</td>\n",
       "      <td>0</td>\n",
       "      <td>0.0000</td>\n",
       "    </tr>\n",
       "  </tbody>\n",
       "</table>\n",
       "<p>5 rows × 30 columns</p>\n",
       "</div>"
      ],
      "text/plain": [
       "   Actor    A_Acc  collect_max_count  Sit_ratio  Sit_count  sit_count_per_day  \\\n",
       "0   1047  6482393                  6     1.0430       1012            24.0952   \n",
       "1   1049  6275719                  0     3.5570        141             8.8125   \n",
       "2   1120  6596993                  3     4.9882        190            47.5000   \n",
       "3   1164  6670686                  0     0.8581         30             3.3333   \n",
       "4   1184  4220231                  4     4.2667        215            19.5455   \n",
       "\n",
       "   Exp_get_ratio  Exp_get_count  exp_get_count_per_day  Item_get_ratio  ...  \\\n",
       "0        15.5210          15060               358.5714          6.2847  ...   \n",
       "1        13.6226            540                33.7500          6.9122  ...   \n",
       "2        15.6734            597               149.2500         13.5994  ...   \n",
       "3        17.8776            625                69.4444          6.8650  ...   \n",
       "4        18.0194            908                82.5455          8.0572  ...   \n",
       "\n",
       "   Use_portal_count  Use_portal_count_per_day  Killed_bypc_count  \\\n",
       "0                 2                    0.0476                690   \n",
       "1                 2                    0.1250                 30   \n",
       "2                 0                    0.0000                  0   \n",
       "3                 0                    0.0000                 26   \n",
       "4                 0                    0.0000                  6   \n",
       "\n",
       "   Killed_bypc_count_per_day  Killed_bynpc_count  Killed_bynpc_count_per_day  \\\n",
       "0                    16.4286                 172                      4.0952   \n",
       "1                     1.8750                  16                      1.0000   \n",
       "2                     0.0000                  20                      5.0000   \n",
       "3                     2.8889                   6                      0.6667   \n",
       "4                     0.5455                  17                      1.5455   \n",
       "\n",
       "   Teleport_count  Teleport_count_per_day  Reborn_count  Reborn_count_per_day  \n",
       "0            1051                 25.0238             2                0.0476  \n",
       "1             118                  7.3750             0                0.0000  \n",
       "2              37                  9.2500             0                0.0000  \n",
       "3              61                  6.7778             0                0.0000  \n",
       "4              54                  4.9091             0                0.0000  \n",
       "\n",
       "[5 rows x 30 columns]"
      ]
     },
     "execution_count": 6,
     "metadata": {},
     "output_type": "execute_result"
    }
   ],
   "source": [
    "player_df.head()\n",
    "action_df.head()\n",
    "# social_df.head()\n",
    "# group_df.head()\n",
    "# network_df.head()"
   ]
  },
  {
   "cell_type": "code",
   "execution_count": 7,
   "metadata": {},
   "outputs": [],
   "source": [
    "def create_player_nodes_batch(tx, player_data_list):\n",
    "    query = \"\"\"\n",
    "        UNWIND $player_list AS playerData\n",
    "        CREATE (p:Player)\n",
    "        SET p = playerData\n",
    "    \"\"\"\n",
    "    tx.run(query, player_list=player_data_list)\n",
    "\n",
    "def create_action_nodes_batch(tx, action_data_list):\n",
    "    query = \"\"\"\n",
    "        UNWIND $action_list AS actionData\n",
    "        CREATE (a:Action)\n",
    "        SET a = actionData\n",
    "    \"\"\"\n",
    "    tx.run(query, action_list=action_data_list)\n",
    "\n",
    "def create_performed_relationships_batch(tx, action_data_list):\n",
    "    query = \"\"\"\n",
    "        UNWIND $action_list AS actionData\n",
    "        MATCH (p:Player {Actor: toInteger(actionData.Actor)}),\n",
    "              (a:Action {collect_max_count: toInteger(actionData.collect_max_count),\n",
    "            Sit_ratio: toFloat(actionData.Sit_ratio),\n",
    "            Sit_count: toInteger(actionData.Sit_count),\n",
    "            sit_count_per_day: toFloat(actionData.sit_count_per_day),\n",
    "            Exp_get_ratio: toFloat(actionData.Exp_get_ratio),\n",
    "            Exp_get_count: toInteger(actionData.Exp_get_count),\n",
    "            exp_get_count_per_day: toFloat(actionData.exp_get_count_per_day),\n",
    "            Item_get_ratio: toFloat(actionData.Item_get_ratio),\n",
    "            Item_get_count: toInteger(actionData.Item_get_count),\n",
    "            item_get_count_per_day: toFloat(actionData.item_get_count_per_day),\n",
    "            Money_get_ratio: toFloat(actionData.Money_get_ratio),\n",
    "            Money_get_count: toInteger(actionData.Money_get_count),\n",
    "            money_get_count_per_day: toFloat(actionData.money_get_count_per_day),\n",
    "            Abyss_get_ratio: toFloat(actionData.Abyss_get_ratio),\n",
    "            Abyss_get_count: toInteger(actionData.Abyss_get_count),\n",
    "            abyss_get_count_per_day: toFloat(actionData.abyss_get_count_per_day),\n",
    "            Exp_repair_count: toInteger(actionData.Exp_repair_count),\n",
    "            Exp_repair_count_per_day: toFloat(actionData.Exp_repair_count_per_day),\n",
    "            Use_portal_count: toInteger(actionData.Use_portal_count),\n",
    "            Use_portal_count_per_day: toFloat(actionData.Use_portal_count_per_day),\n",
    "            Killed_bypc_count: toInteger(actionData.Killed_bypc_count),\n",
    "            Killed_bypc_count_per_day: toFloat(actionData.Killed_bypc_count_per_day),\n",
    "            Killed_bynpc_count: toInteger(actionData.Killed_bynpc_count),\n",
    "            Killed_bynpc_count_per_day: toFloat(actionData.Killed_bynpc_count_per_day),\n",
    "            Teleport_count: toInteger(actionData.Teleport_count),\n",
    "            Teleport_count_per_day: toFloat(actionData.Teleport_count_per_day),\n",
    "            Reborn_count: toInteger(actionData.Reborn_count),\n",
    "            Reborn_count_per_day: toFloat(actionData.Reborn_count_per_day)\n",
    "        })\n",
    "        CREATE (p)-[:PERFORMED]->(a)\n",
    "    \"\"\"\n",
    "    tx.run(query, action_list=action_data_list)\n",
    "\n",
    "def create_social_relationships_batch(tx, social_data_list):\n",
    "    query = \"\"\"\n",
    "        UNWIND $social_list AS socialData\n",
    "        MATCH (p:Player {Actor: toInteger(socialData.Actor)})\n",
    "        SET p.Social_diversity = toFloat(socialData.Social_diversity)\n",
    "    \"\"\"\n",
    "    tx.run(query, social_list=social_data_list)\n",
    "\n",
    "def create_group_relationships_batch(tx, group_data_list):\n",
    "    query = \"\"\"\n",
    "        UNWIND $group_list AS groupData\n",
    "        MATCH (p:Player {Actor: toInteger(groupData.Actor)})\n",
    "        SET p.Avg_PartyTime = toFloat(groupData.Avg_PartyTime),\n",
    "            p.GuildAct_count = toInteger(groupData.GuildAct_count),\n",
    "            p.GuildJoin_count = toInteger(groupData.GuildJoin_count)\n",
    "    \"\"\"\n",
    "    tx.run(query, group_list=group_data_list)\n",
    "\n",
    "def create_network_properties_batch(tx, network_data_list):\n",
    "    query = \"\"\"\n",
    "        UNWIND $network_list AS networkData\n",
    "        MATCH (p:Player {Actor: toInteger(networkData.Actor)})\n",
    "        SET p += networkData\n",
    "    \"\"\"\n",
    "    # Ensure properties like 'Actor' and 'A_Acc' are not included in networkData\n",
    "    for data in network_data_list:\n",
    "        data.pop('Actor', None)\n",
    "        data.pop('A_Acc', None)\n",
    "\n",
    "    tx.run(query, network_list=network_data_list)"
   ]
  },
  {
   "cell_type": "code",
   "execution_count": 8,
   "metadata": {},
   "outputs": [
    {
     "name": "stdout",
     "output_type": "stream",
     "text": [
      "Preparing Player Data...\n",
      "{'Actor': 1047.0, 'A_Acc': 6482393.0, 'Login_day_count': 46.0, 'Logout_day_count': 42.0, 'Playtime': 764520.0, 'playtime_per_day': 18202.8571, 'avg_money': 26576.5613, 'Login_count': 97.0, 'ip_count': 27.0, 'Max_level': 51.0}\n",
      "Preparing Action Data...\n",
      "{'Actor': 1047.0, 'A_Acc': 6482393.0, 'collect_max_count': 6.0, 'Sit_ratio': 1.043, 'Sit_count': 1012.0, 'sit_count_per_day': 24.0952, 'Exp_get_ratio': 15.521, 'Exp_get_count': 15060.0, 'exp_get_count_per_day': 358.5714, 'Item_get_ratio': 6.2847, 'Item_get_count': 6098.0, 'item_get_count_per_day': 145.1905, 'Money_get_ratio': 10.201, 'Money_get_count': 9898.0, 'money_get_count_per_day': 235.66666667, 'Abyss_get_ratio': 11.0636, 'Abyss_get_count': 10735.0, 'abyss_get_count_per_day': 255.5952, 'Exp_repair_count': 66.0, 'Exp_repair_count_per_day': 1.5714, 'Use_portal_count': 2.0, 'Use_portal_count_per_day': 0.0476, 'Killed_bypc_count': 690.0, 'Killed_bypc_count_per_day': 16.4286, 'Killed_bynpc_count': 172.0, 'Killed_bynpc_count_per_day': 4.0952, 'Teleport_count': 1051.0, 'Teleport_count_per_day': 25.0238, 'Reborn_count': 2.0, 'Reborn_count_per_day': 0.0476}\n",
      "Preparing Social Data...\n",
      "{'Actor': 1047.0, 'A_Acc': 6482393.0, 'Social_diversity': 0.6407}\n",
      "Preparing Group Data...\n",
      "{'Actor': 1047.0, 'A_Acc': 6482393.0, 'Avg_PartyTime': 6760.2061, 'GuildAct_count': 1.0, 'GuildJoin_count': 0.0}\n",
      "Preparing Network Data...\n",
      "{'Actor': 1047.0, 'A_Acc': 6482393.0, 'p_in_deg': 52.0, 'p_out_deg': 59.0, 'p_Win_deg': 75.0, 'p_Wout_deg': 129.0, 'p_cc': 0.061119292, 'f_in_deg': 12.0, 'f_out_deg': 11.0, 'f_Win_deg': 12.0, 'f_Wout_deg': 11.0, 'f_cc': 0.022727273, 't_in_deg': 16.0, 't_out_deg': 6.0, 't_Win_deg': 16.0, 't_Wout_deg': 6.0, 't_cc': 0.021428572, 'm_in_deg': 3.0, 'm_out_deg': 3.0, 'm_Win_deg': 3.0, 'm_Wout_deg': 3.0, 'm_cc': 0.0, 's_in_deg': 0.0, 's_out_deg': 1.0, 's_Win_deg': 0.0, 's_Wout_deg': 1.0, 's_cc': 0.0, 'w_in_deg': 26.0, 'w_out_deg': 22.0, 'w_Win_deg': 629.0, 'w_Wout_deg': 566.0, 'w_cc': 0.04597701, 'p_deg': 111.0, 'p_Wdeg': 204.0, 'p_between2': 0.0, 'p_closeness2': 1.0, 'p_Eigenvector2': 1.0, 'p_Eccentricity2': 2.0, 'p_Authority2': 0.0, 'p_Hub2': 0.0, 'p_Pagerank2': 0.0, 'f_deg': 23.0, 'f_Wdeg': 23.0, 'f_between2': 0.0, 'f_closeness2': 1.0, 'f_Eigenvector2': 1.0, 'f_Eccentricity2': 2.0, 'f_Authority2': 0.0, 'f_Hub2': 0.0, 'f_Pagerank2': 0.0, 't_deg': 22.0, 't_Wdeg': 22.0, 't_between2': 0.0, 't_closeness2': 1.0, 't_Eigenvector2': 1.0, 't_Eccentricity2': 2.0, 't_Authority2': 0.0, 't_Hub2': 0.0, 't_Pagerank2': 0.0, 'c_deg': 48.0, 'c_Wdeg': 1195.0, 'c_between2': 0.0, 'c_closeness2': 2.0, 'c_Eigenvector2': 1.0, 'c_Eccentricity2': 1.0, 'c_Authority2': 0.0, 'c_Hub2': 0.0, 'c_Pagerank2': 0.0, 'm_deg': 6.0, 'm_Wdeg': 6.0, 'm_between2': 0.0, 'm_closeness2': 2.0, 'm_Eigenvector2': 0.0, 'm_Eccentricity2': 2.0, 'm_Authority2': 0.0, 'm_Hub2': 0.0, 'm_Pagerank2': 0.0}\n"
     ]
    }
   ],
   "source": [
    "batch_size = 1000  # Adjust batch size as needed\n",
    "\n",
    "# Player Nodes\n",
    "print(\"Preparing Player Data...\")\n",
    "player_data_list = [row.to_dict() for index, row in player_df.iterrows()]\n",
    "print(player_data_list[0])\n",
    "\n",
    "# Action Nodes and Relationships\n",
    "print(\"Preparing Action Data...\")\n",
    "action_data_list = [row.to_dict() for index, row in action_df.iterrows()]\n",
    "print(action_data_list[0])\n",
    "\n",
    "# Social Relationships\n",
    "print(\"Preparing Social Data...\")\n",
    "social_data_list = [row.to_dict() for index, row in social_df.iterrows()]\n",
    "print(social_data_list[0])\n",
    "\n",
    "# Group Relationships\n",
    "print(\"Preparing Group Data...\")\n",
    "group_data_list = [row.to_dict() for index, row in group_df.iterrows()]\n",
    "print(group_data_list[0])\n",
    "\n",
    "# Network Properties\n",
    "print(\"Preparing Network Data...\")\n",
    "network_data_list = [row.to_dict() for index, row in network_df.iterrows()]\n",
    "print(network_data_list[0])\n"
   ]
  },
  {
   "cell_type": "code",
   "execution_count": 9,
   "metadata": {},
   "outputs": [
    {
     "name": "stderr",
     "output_type": "stream",
     "text": [
      "/var/folders/sy/4s0tvv155s961r1rz4db2sfw0000gn/T/ipykernel_45767/920335287.py:5: DeprecationWarning: Using a driver after it has been closed is deprecated. Future versions of the driver will raise an error.\n",
      "  with driver.session() as session:\n"
     ]
    },
    {
     "name": "stdout",
     "output_type": "stream",
     "text": [
      "\n",
      "Creating Player Nodes...\n"
     ]
    },
    {
     "name": "stderr",
     "output_type": "stream",
     "text": [
      "Player Nodes: 100%|██████████| 49739/49739 [00:19<00:00, 2593.87node/s]\n"
     ]
    },
    {
     "name": "stdout",
     "output_type": "stream",
     "text": [
      "Player Nodes Created.\n",
      "\n",
      "Creating Action Nodes...\n"
     ]
    },
    {
     "name": "stderr",
     "output_type": "stream",
     "text": [
      "Action Nodes: 100%|██████████| 49739/49739 [00:32<00:00, 1544.39node/s]\n"
     ]
    },
    {
     "name": "stdout",
     "output_type": "stream",
     "text": [
      "Action Nodes Created.\n",
      "\n",
      "Creating PERFORMED Relationships...\n"
     ]
    },
    {
     "name": "stderr",
     "output_type": "stream",
     "text": [
      "PERFORMED Relationships:  36%|███▌      | 18000/49739 [23:56<43:41, 12.11rel/s]  [#E61B]  _: <CONNECTION> error: Failed to read from defunct connection IPv4Address(('si-6ea87e27-fa4a.production-orch-0695.neo4j.io', 7687)) (ResolvedIPv4Address(('34.126.161.242', 7687))): TimeoutError('The read operation timed out')\n",
      "Transaction failed and will be retried in 1.1218259445352259s (Failed to read from defunct connection IPv4Address(('si-6ea87e27-fa4a.production-orch-0695.neo4j.io', 7687)) (ResolvedIPv4Address(('34.126.161.242', 7687))))\n",
      "PERFORMED Relationships:  58%|█████▊    | 29000/49739 [41:11<31:03, 11.13rel/s]  [#E8B5]  _: <CONNECTION> error: Failed to read from defunct connection IPv4Address(('si-6ea87e27-fa4a.production-orch-0695.neo4j.io', 7687)) (ResolvedIPv4Address(('34.126.161.242', 7687))): TimeoutError('The read operation timed out')\n",
      "Transaction failed and will be retried in 1.077371556347384s (Failed to read from defunct connection IPv4Address(('si-6ea87e27-fa4a.production-orch-0695.neo4j.io', 7687)) (ResolvedIPv4Address(('34.126.161.242', 7687))))\n",
      "[#E6E8]  _: <CONNECTION> error: Failed to read from defunct connection ResolvedIPv4Address(('34.126.161.242', 7687)) (ResolvedIPv4Address(('34.126.161.242', 7687))): TimeoutError(60, 'Operation timed out')\n",
      "Unable to retrieve routing information\n",
      "Transaction failed and will be retried in 1.9020549217037155s (Unable to retrieve routing information)\n",
      "PERFORMED Relationships:  88%|████████▊ | 44000/49739 [1:13:34<05:53, 16.22rel/s][#EB3F]  _: <CONNECTION> error: Failed to read from defunct connection IPv4Address(('si-6ea87e27-fa4a.production-orch-0695.neo4j.io', 7687)) (ResolvedIPv4Address(('34.126.161.242', 7687))): TimeoutError('The read operation timed out')\n",
      "Transaction failed and will be retried in 1.1457222047402913s (Failed to read from defunct connection IPv4Address(('si-6ea87e27-fa4a.production-orch-0695.neo4j.io', 7687)) (ResolvedIPv4Address(('34.126.161.242', 7687))))\n",
      "[#EB3E]  _: <CONNECTION> error: Failed to read from defunct connection ResolvedIPv4Address(('34.126.161.242', 7687)) (ResolvedIPv4Address(('34.126.161.242', 7687))): TimeoutError(60, 'Operation timed out')\n",
      "Unable to retrieve routing information\n",
      "Transaction failed and will be retried in 1.9190389748451375s (Unable to retrieve routing information)\n",
      "PERFORMED Relationships: 100%|██████████| 49739/49739 [1:25:05<00:00,  9.74rel/s]\n"
     ]
    },
    {
     "name": "stdout",
     "output_type": "stream",
     "text": [
      "PERFORMED Relationships Created.\n",
      "\n",
      "Creating Social Relationships...\n"
     ]
    },
    {
     "name": "stderr",
     "output_type": "stream",
     "text": [
      "Social Relationships: 100%|██████████| 49739/49739 [19:46<00:00, 41.92rel/s]\n"
     ]
    },
    {
     "name": "stdout",
     "output_type": "stream",
     "text": [
      "Social Relationships Created.\n",
      "\n",
      "Creating Group Relationships...\n"
     ]
    },
    {
     "name": "stderr",
     "output_type": "stream",
     "text": [
      "Group Relationships:  18%|█▊        | 9000/49739 [07:33<16:40, 40.74rel/s][#ECE6]  _: <CONNECTION> error: Failed to read from defunct connection IPv4Address(('si-6ea87e27-fa4a.production-orch-0695.neo4j.io', 7687)) (ResolvedIPv4Address(('34.126.161.242', 7687))): TimeoutError('The read operation timed out')\n",
      "Transaction failed and will be retried in 1.077783119892235s (Failed to read from defunct connection IPv4Address(('si-6ea87e27-fa4a.production-orch-0695.neo4j.io', 7687)) (ResolvedIPv4Address(('34.126.161.242', 7687))))\n",
      "Group Relationships:  36%|███▌      | 18000/49739 [12:20<14:56, 35.39rel/s]  [#EFFB]  _: <CONNECTION> error: Failed to read from defunct connection IPv4Address(('si-6ea87e27-fa4a.production-orch-0695.neo4j.io', 7687)) (ResolvedIPv4Address(('34.126.161.242', 7687))): TimeoutError('The read operation timed out')\n",
      "Transaction failed and will be retried in 1.178647489985142s (Failed to read from defunct connection IPv4Address(('si-6ea87e27-fa4a.production-orch-0695.neo4j.io', 7687)) (ResolvedIPv4Address(('34.126.161.242', 7687))))\n",
      "Group Relationships:  72%|███████▏  | 36000/49739 [31:05<10:06, 22.64rel/s][#F12D]  _: <CONNECTION> error: Failed to read from defunct connection IPv4Address(('si-6ea87e27-fa4a.production-orch-0695.neo4j.io', 7687)) (ResolvedIPv4Address(('34.126.161.242', 7687))): TimeoutError('The read operation timed out')\n",
      "Transaction failed and will be retried in 0.826254104613126s (Failed to read from defunct connection IPv4Address(('si-6ea87e27-fa4a.production-orch-0695.neo4j.io', 7687)) (ResolvedIPv4Address(('34.126.161.242', 7687))))\n",
      "Group Relationships: 100%|██████████| 49739/49739 [36:52<00:00, 22.48rel/s]\n"
     ]
    },
    {
     "name": "stdout",
     "output_type": "stream",
     "text": [
      "Group Relationships Created.\n",
      "\n",
      "Creating Network Properties...\n"
     ]
    },
    {
     "name": "stderr",
     "output_type": "stream",
     "text": [
      "Network Properties: 100%|██████████| 49739/49739 [18:53<00:00, 43.88property/s]"
     ]
    },
    {
     "name": "stdout",
     "output_type": "stream",
     "text": [
      "Network Properties Created.\n",
      "\n",
      "Knowledge Graph Creation Complete!\n"
     ]
    },
    {
     "name": "stderr",
     "output_type": "stream",
     "text": [
      "\n"
     ]
    }
   ],
   "source": [
    "# -----------------------------------------------------------------------------\n",
    "# Neo4j Operations with Batching and Progress Bars\n",
    "# -----------------------------------------------------------------------------\n",
    "\n",
    "with driver.session() as session:\n",
    "    # -------------------------------------------------------------------------\n",
    "    # Create Player Nodes\n",
    "    print(\"\\nCreating Player Nodes...\")\n",
    "    with tqdm(total=len(player_data_list), desc=\"Player Nodes\", unit=\"node\") as pbar:\n",
    "        for i in range(0, len(player_data_list), batch_size):\n",
    "            batch = player_data_list[i:i + batch_size]\n",
    "            session.execute_write(create_player_nodes_batch, batch)\n",
    "            pbar.update(len(batch))\n",
    "    print(\"Player Nodes Created.\")\n",
    "\n",
    "    # -------------------------------------------------------------------------\n",
    "    # Create Action Nodes\n",
    "    print(\"\\nCreating Action Nodes...\")\n",
    "    with tqdm(total=len(action_data_list), desc=\"Action Nodes\", unit=\"node\") as pbar:\n",
    "        for i in range(0, len(action_data_list), batch_size):\n",
    "            batch = action_data_list[i:i + batch_size]\n",
    "            session.execute_write(create_action_nodes_batch, batch)\n",
    "            pbar.update(len(batch))\n",
    "    print(\"Action Nodes Created.\")\n",
    "    \n",
    "    print(\"\\nCreating PERFORMED Relationships...\")\n",
    "    with tqdm(total=len(action_data_list), desc=\"PERFORMED Relationships\", unit=\"rel\") as pbar:\n",
    "        for i in range(0, len(action_data_list), batch_size):\n",
    "            batch = action_data_list[i:i + batch_size]\n",
    "            session.execute_write(create_performed_relationships_batch, batch)\n",
    "            pbar.update(len(batch))\n",
    "    print(\"PERFORMED Relationships Created.\")\n",
    "\n",
    "    # -------------------------------------------------------------------------\n",
    "    # Create Social Relationships\n",
    "    print(\"\\nCreating Social Relationships...\")\n",
    "    with tqdm(total=len(social_data_list), desc=\"Social Relationships\", unit=\"rel\") as pbar:\n",
    "        for i in range(0, len(social_data_list), batch_size):\n",
    "            batch = social_data_list[i:i + batch_size]\n",
    "            session.execute_write(create_social_relationships_batch, batch)\n",
    "            pbar.update(len(batch))\n",
    "    print(\"Social Relationships Created.\")\n",
    "\n",
    "    # -------------------------------------------------------------------------\n",
    "    # Create Group Relationships\n",
    "    print(\"\\nCreating Group Relationships...\")\n",
    "    with tqdm(total=len(group_data_list), desc=\"Group Relationships\", unit=\"rel\") as pbar:\n",
    "        for i in range(0, len(group_data_list), batch_size):\n",
    "            batch = group_data_list[i:i + batch_size]\n",
    "            session.execute_write(create_group_relationships_batch, batch)\n",
    "            pbar.update(len(batch))\n",
    "    print(\"Group Relationships Created.\")\n",
    "\n",
    "    # -------------------------------------------------------------------------\n",
    "    # Create Network Properties\n",
    "    print(\"\\nCreating Network Properties...\")\n",
    "    total_network_updates = len(network_data_list)\n",
    "    with tqdm(total=total_network_updates, desc=\"Network Properties\", unit=\"property\") as pbar:\n",
    "        for i in range(0, total_network_updates, batch_size):\n",
    "            batch = network_data_list[i:i + batch_size]\n",
    "            session.execute_write(create_network_properties_batch, batch)\n",
    "            pbar.update(len(batch))\n",
    "    print(\"Network Properties Created.\")\n",
    "\n",
    "print(\"\\nKnowledge Graph Creation Complete!\")"
   ]
  },
  {
   "cell_type": "code",
   "execution_count": 10,
   "metadata": {},
   "outputs": [],
   "source": [
    "# -------------------------------------------------------------------------\n",
    "# Create PERFORMED Relationships\n"
   ]
  },
  {
   "cell_type": "code",
   "execution_count": null,
   "metadata": {},
   "outputs": [],
   "source": []
  }
 ],
 "metadata": {
  "kernelspec": {
   "display_name": "game_bot_detection",
   "language": "python",
   "name": "python3"
  },
  "language_info": {
   "codemirror_mode": {
    "name": "ipython",
    "version": 3
   },
   "file_extension": ".py",
   "mimetype": "text/x-python",
   "name": "python",
   "nbconvert_exporter": "python",
   "pygments_lexer": "ipython3",
   "version": "3.13.1"
  }
 },
 "nbformat": 4,
 "nbformat_minor": 2
}
