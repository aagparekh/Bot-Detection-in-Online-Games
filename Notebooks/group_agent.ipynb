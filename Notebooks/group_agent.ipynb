{
 "cells": [
  {
   "cell_type": "code",
   "execution_count": 1,
   "metadata": {},
   "outputs": [],
   "source": [
    "from langchain_neo4j import Neo4jGraph\n",
    "from langchain_core.prompts import ChatPromptTemplate"
   ]
  },
  {
   "cell_type": "code",
   "execution_count": 2,
   "metadata": {},
   "outputs": [],
   "source": [
    "from langchain_groq import ChatGroq\n",
    "\n",
    "llm = ChatGroq(model=\"llama-3.3-70b-versatile\", api_key='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')"
   ]
  },
  {
   "cell_type": "code",
   "execution_count": 4,
   "metadata": {},
   "outputs": [],
   "source": [
    "graph = Neo4jGraph(\n",
    "    url=\"neo4j+s://00601af8.databases.neo4j.io\", username=\"neo4j\", password=\"oIBWHe2qEKESesEC1pBzwXL041YajSkKN5BIacTIIE0\"\n",
    ")"
   ]
  },
  {
   "cell_type": "code",
   "execution_count": 14,
   "metadata": {},
   "outputs": [],
   "source": [
    "def extract_player_social_diversity_features(player_id: str) -> dict:\n",
    "    \"\"\"\n",
    "    Extracts features from the knowledge graph for a given player.\n",
    "    \"\"\"\n",
    "    query = f\"\"\"\n",
    "    MATCH (p:Player {{Actor: toInteger('{player_id}')}})\n",
    "    RETURN\n",
    "        p.Actor AS player_id,\n",
    "        p.A_Acc AS a_acc,\n",
    "        p.Avg_PartyTime AS avg_partytime,\n",
    "        p.GuildAct_count AS guild_act_count,\n",
    "        p.GuildJoin_count AS guild_join_count\n",
    "    \"\"\"\n",
    "    results = graph.query(query)\n",
    "    if results:\n",
    "        return results[0]\n",
    "    else:\n",
    "        return {}"
   ]
  },
  {
   "cell_type": "code",
   "execution_count": 35,
   "metadata": {},
   "outputs": [],
   "source": [
    "prompt = ChatPromptTemplate.from_template(\n",
    "\"\"\"\n",
    "<|system|>\n",
    "You are an expert game analyst tasked with identifying bots in an online game by analyzing player statistics. Your role is to generate an anomaly score (0-100, higher score means more likely to be a bot) and provide concise reasoning based on the player data.\n",
    "\n",
    "Here is how to interpret each player statistic. Provide context for how each statistic informs your score. Focus on how these characteristics point to a bot.\n",
    "\n",
    "- **Actor**: The player's unique identifier.\n",
    "- **A_Acc**: Account ID; extreme values may indicate automated account creation.\n",
    "\n",
    "- **Avg_PartyTime**: The average time spent in group activities.\n",
    "  - Low: **0** (No party activity)\n",
    "  - High: Above **5,358** (Excessively high group activity)\n",
    "  - Bots tend to avoid parties or farm in groups for long hours.\n",
    "\n",
    "- **GuildAct_count**: Number of guild activities.\n",
    "  - Low: **0** (No guild activity)\n",
    "  - High: **1+** (Some activity)\n",
    "  - Bots often avoid guild activities unless scripted for farming.\n",
    "\n",
    "- **GuildJoin_count**: Number of times a player has joined a guild.\n",
    "  - Low: **0** (Never joined a guild)\n",
    "  - High: **N/A** (Most values are 0)\n",
    "\n",
    "Bot Indicators:\n",
    "1. **Players with both extremely low or high Avg_PartyTime** tend to be bots.\n",
    "2. **Zero guild activity (GuildAct_count = 0) strongly suggests bot-like behavior.**\n",
    "3. **Accounts with very high or very low A_Acc values** may indicate automation.\n",
    "4. **A mix of these factors increases the likelihood of bot activity.**\n",
    "\n",
    "\n",
    "Based on these descriptions, you will be given the following information and need to determine these two things:\n",
    "\n",
    "1. **Determine the anomaly score (0-100)**: A higher score indicates a greater likelihood of the player being a bot. This MUST be provided.  \n",
    "2. **Provide a detailed explanation of your reasoning.** This MUST be provided.\n",
    "\n",
    "Your final output **MUST** follow this structure:\n",
    "\n",
    "Anomaly Score: [your anomaly score 0-100]  \n",
    "Reasoning: [Your reasoning based on patterns from the statistics. Be as clear as possible]\n",
    "\n",
    "Respond concisely and directly.\n",
    "\n",
    "<|user|>\n",
    "Here is the player data:\n",
    "\n",
    "Actor: {actor}\n",
    "A_Acc: {a_acc}  \n",
    "Avg_PartyTime: {avg_partytime}  \n",
    "GuildAct_count: {guildact_count}  \n",
    "GuildJoin_count: {guildjoin_count}  \n",
    "\n",
    "Anomaly Score:  \n",
    "Reasoning:  \n",
    "\n",
    "\"\"\")"
   ]
  },
  {
   "cell_type": "code",
   "execution_count": 36,
   "metadata": {},
   "outputs": [],
   "source": [
    "def assess_bot_likelihood(player_data) -> tuple[int, str, str]:\n",
    "    \"\"\"\n",
    "    Assesses the likelihood of a player being a bot using LLM and extracts score and reasoning.\n",
    "    Returns a tuple of (anomaly_score, reasoning, full_analysis).\n",
    "    \"\"\"\n",
    "    # Format the prompt\n",
    "    formatted_prompt = prompt.format_messages(\n",
    "        actor=player_data['player_id'],\n",
    "        a_acc=player_data['a_acc'],\n",
    "        avg_partytime=player_data['avg_partytime'],\n",
    "        guildact_count=player_data['guild_act_count'],\n",
    "        guildjoin_count=player_data['guild_join_count']\n",
    "    )\n",
    "\n",
    "    # Call the LLM directly\n",
    "    response = llm.invoke(formatted_prompt)\n",
    "    full_analysis = response.content\n",
    "\n",
    "    # Extract Anomaly Score and Reasoning\n",
    "    try:\n",
    "        score_line = next(line for line in full_analysis.split('\\n') if \"Anomaly Score\" in line)\n",
    "        anomaly_score = int(score_line.split(\":\")[1].strip())\n",
    "\n",
    "        reasoning = \"\\n\".join(full_analysis.split('\\n')[1:])  # All lines after the score\n",
    "    except Exception as e:\n",
    "        anomaly_score = None\n",
    "        reasoning = f\"Could not reliably parse LLM response: {str(e)}\"\n",
    "\n",
    "    return anomaly_score, reasoning, full_analysis"
   ]
  },
  {
   "cell_type": "code",
   "execution_count": 37,
   "metadata": {},
   "outputs": [],
   "source": [
    "def generate_bot_report(player_ids: list[str]) -> list[dict]:\n",
    "    \"\"\"\n",
    "    Generates a report for a list of player IDs, including anomaly scores and reasoning.\n",
    "    \"\"\"\n",
    "    report = []\n",
    "    for player_id in player_ids:\n",
    "        player_data = extract_player_social_diversity_features(player_id)\n",
    "        if player_data:\n",
    "            anomaly_score, reasoning, full_analysis = assess_bot_likelihood(player_data)\n",
    "\n",
    "            report.append({\n",
    "                \"player_id\": player_id,\n",
    "                \"anomaly_score\": anomaly_score,\n",
    "                \"reasoning\": reasoning,\n",
    "                #\"full_analysis\": /full_analysis  # Optional - adds full LLM output\n",
    "            })\n",
    "        else:\n",
    "            report.append({\n",
    "                \"player_id\": player_id,\n",
    "                \"anomaly_score\": None,\n",
    "                \"reasoning\": \"No data found for this player.\",\n",
    "                \"full_analysis\": None\n",
    "            })\n",
    "    return report"
   ]
  },
  {
   "cell_type": "code",
   "execution_count": 38,
   "metadata": {},
   "outputs": [
    {
     "name": "stdout",
     "output_type": "stream",
     "text": [
      "Player ID: 300978\n",
      "Anomaly Score: 90\n",
      "Reasoning: Reasoning: The player data suggests a high likelihood of bot-like behavior due to several key indicators. Firstly, the extremely high Avg_PartyTime of 5956.6364 is a strong bot indicator, as it suggests the player is farming in groups for excessively long hours, which is a common bot behavior. Additionally, the GuildAct_count of 0 implies that the player avoids guild activities, which is another characteristic often associated with bots. The A_Acc value of 7103528, while not extremely low, is on the higher side, which could indicate automated account creation. Lastly, the GuildJoin_count of 0 further supports the notion of bot-like behavior, as bots often do not engage in social aspects of the game like guild membership. The combination of these factors, particularly the extremely high Avg_PartyTime and complete lack of guild activity, leads to a high anomaly score, suggesting that this player is very likely a bot.\n",
      "----------------------------------------\n"
     ]
    }
   ],
   "source": [
    "player_ids_to_check = ['300978']  # Replace with actual player IDs\n",
    "bot_report = generate_bot_report(player_ids_to_check)\n",
    "\n",
    "for record in bot_report:\n",
    "    print(f\"Player ID: {record['player_id']}\")\n",
    "    print(f\"Anomaly Score: {record['anomaly_score']}\")\n",
    "    print(f\"Reasoning: {record['reasoning']}\")\n",
    "    print(\"-\" * 40)"
   ]
  },
  {
   "cell_type": "code",
   "execution_count": null,
   "metadata": {},
   "outputs": [],
   "source": []
  }
 ],
 "metadata": {
  "kernelspec": {
   "display_name": "my_env",
   "language": "python",
   "name": "python3"
  },
  "language_info": {
   "codemirror_mode": {
    "name": "ipython",
    "version": 3
   },
   "file_extension": ".py",
   "mimetype": "text/x-python",
   "name": "python",
   "nbconvert_exporter": "python",
   "pygments_lexer": "ipython3",
   "version": "3.10.16"
  }
 },
 "nbformat": 4,
 "nbformat_minor": 2
}
